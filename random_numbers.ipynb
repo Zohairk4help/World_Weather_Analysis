{
 "cells": [
  {
   "cell_type": "code",
   "execution_count": 1,
   "id": "2abb9867",
   "metadata": {},
   "outputs": [],
   "source": [
    "# Import the random module.\n",
    "import random"
   ]
  },
  {
   "cell_type": "code",
   "execution_count": 2,
   "id": "5dae8093",
   "metadata": {},
   "outputs": [
    {
     "data": {
      "text/plain": [
       "18"
      ]
     },
     "execution_count": 2,
     "metadata": {},
     "output_type": "execute_result"
    }
   ],
   "source": [
    "# \tReturns an integer between the interval, -90 and up to 90.\tWill not generate a floating-point decimal number.\n",
    "random.randint(-90,90)"
   ]
  },
  {
   "cell_type": "code",
   "execution_count": 3,
   "id": "22b274a8",
   "metadata": {},
   "outputs": [
    {
     "data": {
      "text/plain": [
       "0.6649943641763052"
      ]
     },
     "execution_count": 3,
     "metadata": {},
     "output_type": "execute_result"
    }
   ],
   "source": [
    "random.random()"
   ]
  },
  {
   "cell_type": "code",
   "execution_count": 6,
   "id": "e58d7364",
   "metadata": {},
   "outputs": [],
   "source": [
    "# to combine the two above random methods to form a random list of latidues in the formula below:\n",
    "x = 1\n",
    "latitudes = []\n",
    "while x < 11:\n",
    "    random_lat = random.randint(-90, 89) + random.random()\n",
    "    latitudes.append(random_lat)\n",
    "    x += 1"
   ]
  },
  {
   "cell_type": "code",
   "execution_count": 7,
   "id": "6064ab41",
   "metadata": {},
   "outputs": [
    {
     "data": {
      "text/plain": [
       "[82.01112886148273,\n",
       " -81.85283493370007,\n",
       " 41.765121568895516,\n",
       " 73.28779849510315,\n",
       " 75.54697427046872,\n",
       " 72.65806297985213,\n",
       " -84.58126734211851,\n",
       " 69.84063381250057,\n",
       " -59.488571751228285,\n",
       " 0.36922409066701134]"
      ]
     },
     "execution_count": 7,
     "metadata": {},
     "output_type": "execute_result"
    }
   ],
   "source": [
    "latitudes"
   ]
  },
  {
   "cell_type": "code",
   "execution_count": 8,
   "id": "881ef75a",
   "metadata": {},
   "outputs": [
    {
     "data": {
      "text/plain": [
       "34"
      ]
     },
     "execution_count": 8,
     "metadata": {},
     "output_type": "execute_result"
    }
   ],
   "source": [
    "# Returns a whole integer between the interval, -90 and 90 where the step is the difference between each number in the sequence.\n",
    "# Will not generate a floating-point decimal number.\n",
    "random.randrange(-90, 90, step=1)"
   ]
  },
  {
   "cell_type": "code",
   "execution_count": 11,
   "id": "41b0c1a4",
   "metadata": {},
   "outputs": [
    {
     "data": {
      "text/plain": [
       "87"
      ]
     },
     "execution_count": 11,
     "metadata": {},
     "output_type": "execute_result"
    }
   ],
   "source": [
    "random.randrange(-90, 90, step=3)"
   ]
  },
  {
   "cell_type": "code",
   "execution_count": 12,
   "id": "0f8405d6",
   "metadata": {},
   "outputs": [],
   "source": [
    "# to combine the two above random methods to form a random list of latidues in the formula below:\n",
    "# random() : Returns a floating-point decimal number between 0 and 1.\tWill not generate a whole integer.\n",
    "x = 1\n",
    "latitudes = []\n",
    "while x < 11:\n",
    "    random_lat = random.randrange(-90, 90, step=3) + random.random()\n",
    "    latitudes.append(random_lat)\n",
    "    x += 1"
   ]
  },
  {
   "cell_type": "code",
   "execution_count": 13,
   "id": "50e6c1ea",
   "metadata": {},
   "outputs": [
    {
     "data": {
      "text/plain": [
       "[15.67828271086046,\n",
       " 24.56798810124735,\n",
       " -26.65770499975796,\n",
       " 45.76327548774396,\n",
       " -77.61622893826578,\n",
       " 69.29533515769084,\n",
       " -68.65837489846699,\n",
       " 72.60931427983301,\n",
       " 39.99003376224253,\n",
       " -50.81069407099657]"
      ]
     },
     "execution_count": 13,
     "metadata": {},
     "output_type": "execute_result"
    }
   ],
   "source": [
    "latitudes"
   ]
  },
  {
   "cell_type": "code",
   "execution_count": 15,
   "id": "f555011e",
   "metadata": {},
   "outputs": [
    {
     "data": {
      "text/plain": [
       "45.626410826063704"
      ]
     },
     "execution_count": 15,
     "metadata": {},
     "output_type": "execute_result"
    }
   ],
   "source": [
    "# \tReturns a floating-point decimal number between the interval, -90 and 90.\tWill not generate a whole integer. \n",
    "random.uniform(-90, 90)\n",
    "# The uniform() function could prove to be quite useful because it will return a floating-point decimal number! "
   ]
  },
  {
   "cell_type": "code",
   "execution_count": 16,
   "id": "66bfe57b",
   "metadata": {},
   "outputs": [],
   "source": [
    "# to combine the two above random methods to form a random list of latidues in the formula below:\n",
    "\n",
    "x = 1\n",
    "latitudes = []\n",
    "while x < 11:\n",
    "    random_lat = random.uniform(-90, 90) + random.random()\n",
    "    latitudes.append(random_lat)\n",
    "    x += 1"
   ]
  },
  {
   "cell_type": "code",
   "execution_count": 17,
   "id": "0fc5e332",
   "metadata": {},
   "outputs": [
    {
     "data": {
      "text/plain": [
       "[-30.216198024359205,\n",
       " -18.34085246322273,\n",
       " 49.294895179595684,\n",
       " -26.990099007728745,\n",
       " 17.195331184091216,\n",
       " -3.850468853997665,\n",
       " 0.06266771570433793,\n",
       " -83.13962416333173,\n",
       " 14.180048604508753,\n",
       " 16.304066150944614]"
      ]
     },
     "execution_count": 17,
     "metadata": {},
     "output_type": "execute_result"
    }
   ],
   "source": [
    "latitudes"
   ]
  },
  {
   "cell_type": "markdown",
   "id": "f2739845",
   "metadata": {},
   "source": [
    "goal: Remember, we need to get more than a thousand latitudes and longitudes, and running one of these functions using a while loop or other methods may take more programming than needed.\n",
    "\n",
    "To help us generate the 1500 latitudes and longitudes, we can combine the NumPy module with one of the random module functions.\n",
    "\n",
    " The NumPy and random Modules:\n",
    " One way to generate more than a thousand latitudes and longitudes is to chain the NumPy module to the random module to create an array of latitudes or longitudes between the lowest and highest values, or –90° and 90°, and –180° and 180°, respectively. To accomplish this, we'll use the uniform() function from the random module."
   ]
  },
  {
   "cell_type": "code",
   "execution_count": 18,
   "id": "253935b3",
   "metadata": {},
   "outputs": [],
   "source": [
    "# Import the NumPy module.\n",
    "import numpy as np"
   ]
  },
  {
   "cell_type": "code",
   "execution_count": 19,
   "id": "5858fd3d",
   "metadata": {},
   "outputs": [
    {
     "data": {
      "text/plain": [
       "-56.48311816128546"
      ]
     },
     "execution_count": 19,
     "metadata": {},
     "output_type": "execute_result"
    }
   ],
   "source": [
    "np.random.uniform(-90.000, 90.000)\n",
    "# When we use the NumPy module with the random.uniform() function, the parenthetical parameters contain a lower boundary (low value) and an upper boundary (high value) that are floating-point decimal numbers."
   ]
  },
  {
   "cell_type": "code",
   "execution_count": 21,
   "id": "7fd98547",
   "metadata": {},
   "outputs": [
    {
     "data": {
      "text/plain": [
       "-16.38289025812101"
      ]
     },
     "execution_count": 21,
     "metadata": {},
     "output_type": "execute_result"
    }
   ],
   "source": [
    "# another way to do the same:\n",
    "np.random.uniform(low=-90, high=90)"
   ]
  },
  {
   "cell_type": "code",
   "execution_count": 24,
   "id": "f362fe5c",
   "metadata": {},
   "outputs": [
    {
     "data": {
      "text/plain": [
       "array([ 12.38103596,  -4.79620415,  14.69917818,  -5.80935835,\n",
       "        70.09116909, -33.87556002, -81.51352264, -53.30090199,\n",
       "       -74.96279553,  28.4483765 , -34.37292833, -72.10579321,\n",
       "        72.01918335,  38.66758456,  54.68962923,  19.20131378,\n",
       "        -7.0347539 ,   6.68228427,  29.48440649,  -8.42470996,\n",
       "       -80.91035218, -60.78689912, -49.78904733,  70.93614193,\n",
       "       -62.76246767,  74.29761134, -59.21575464, -21.27711683,\n",
       "       -62.65002177, -64.58763682,  13.24483902, -58.43651231,\n",
       "        53.1836585 , -72.85085504, -31.7875506 , -37.25920423,\n",
       "       -53.03999969,  64.74528955, -75.31884039,  81.85329744,\n",
       "        27.57611485, -61.04616975, -35.12485653,  54.27414669,\n",
       "       -16.63178259,  47.02755003,  18.63623763,  32.44105391,\n",
       "       -79.81834965,  12.73285744])"
      ]
     },
     "execution_count": 24,
     "metadata": {},
     "output_type": "execute_result"
    }
   ],
   "source": [
    "# To generate more than one floating-point decimal number:\n",
    "np.random.uniform(-90.000, 90.000, size=50)"
   ]
  },
  {
   "cell_type": "code",
   "execution_count": 25,
   "id": "d0423f5d",
   "metadata": {},
   "outputs": [
    {
     "data": {
      "text/plain": [
       "array([ 54.63081324,  76.48792408,  26.0088464 , ..., -52.89047234,\n",
       "        46.12478143,  -6.74767957])"
      ]
     },
     "execution_count": 25,
     "metadata": {},
     "output_type": "execute_result"
    }
   ],
   "source": [
    "# increase the size to goal size=1500\n",
    "np.random.uniform(-90.000, 90.000, size=1500)"
   ]
  },
  {
   "cell_type": "code",
   "execution_count": 26,
   "id": "63e36698",
   "metadata": {},
   "outputs": [],
   "source": [
    "# To test how long a piece of code or function takes to run,use timeit()\n",
    "# Import timeit.\n",
    "import timeit"
   ]
  },
  {
   "cell_type": "code",
   "execution_count": 27,
   "id": "58480d19",
   "metadata": {},
   "outputs": [
    {
     "name": "stdout",
     "output_type": "stream",
     "text": [
      "33.2 µs ± 983 ns per loop (mean ± std. dev. of 7 runs, 10000 loops each)\n"
     ]
    }
   ],
   "source": [
    "%timeit np.random.uniform(-90.000, 90.000, size=1500)"
   ]
  },
  {
   "cell_type": "code",
   "execution_count": 28,
   "id": "941a4b78",
   "metadata": {
    "scrolled": true
   },
   "outputs": [
    {
     "name": "stdout",
     "output_type": "stream",
     "text": [
      "3.33 ms ± 154 µs per loop (mean ± std. dev. of 7 runs, 100 loops each)\n"
     ]
    }
   ],
   "source": [
    "# now add the while loop like we used before in this new function:\n",
    "def latitudes(size):\n",
    "    latitudes = []\n",
    "    x = 0\n",
    "    while x < (size):\n",
    "        random_lat = random.randint(-90, 90) + random.random()\n",
    "        latitudes.append(random_lat)\n",
    "        x += 1\n",
    "    return latitudes\n",
    "# Call the function with 1500.\n",
    "%timeit latitudes(1500)"
   ]
  },
  {
   "cell_type": "markdown",
   "id": "31aae0a6",
   "metadata": {},
   "source": [
    "###### compare the out put of the previous cells with the output of randomuniform cell. the random uniform cell has much faster output"
   ]
  },
  {
   "cell_type": "markdown",
   "id": "e9d9fba0",
   "metadata": {},
   "source": [
    "### next goal: Create Latitude and Longitude Combinations"
   ]
  },
  {
   "cell_type": "code",
   "execution_count": null,
   "id": "cefd1741",
   "metadata": {},
   "outputs": [],
   "source": []
  }
 ],
 "metadata": {
  "kernelspec": {
   "display_name": "PythonData",
   "language": "python",
   "name": "pythondata"
  },
  "language_info": {
   "codemirror_mode": {
    "name": "ipython",
    "version": 3
   },
   "file_extension": ".py",
   "mimetype": "text/x-python",
   "name": "python",
   "nbconvert_exporter": "python",
   "pygments_lexer": "ipython3",
   "version": "3.8.8"
  }
 },
 "nbformat": 4,
 "nbformat_minor": 5
}
